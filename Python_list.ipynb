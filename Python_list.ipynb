{
  "cells": [
    {
      "cell_type": "markdown",
      "metadata": {
        "id": "view-in-github",
        "colab_type": "text"
      },
      "source": [
        "<a href=\"https://colab.research.google.com/github/DostdarDost/Teaching-Courses/blob/Courses/Python_list.ipynb\" target=\"_parent\"><img src=\"https://colab.research.google.com/assets/colab-badge.svg\" alt=\"Open In Colab\"/></a>"
      ]
    },
    {
      "cell_type": "markdown",
      "id": "407b7d31",
      "metadata": {
        "id": "407b7d31"
      },
      "source": [
        "# List in Python\n",
        "Python knows a number of compound data types, used to group together other values. The most versatile is the list, which can be written as a list of comma-separated values (items) between square brackets. Lists might contain items of different types, but usually the items all have the same type."
      ]
    },
    {
      "cell_type": "code",
      "execution_count": null,
      "id": "f6a34c3a",
      "metadata": {
        "id": "f6a34c3a"
      },
      "outputs": [],
      "source": [
        "mylist=[1,2,3,4,5,6]"
      ]
    },
    {
      "cell_type": "code",
      "execution_count": null,
      "id": "494c1615",
      "metadata": {
        "id": "494c1615",
        "outputId": "23fee517-bcc5-4b06-b24f-df897785617c"
      },
      "outputs": [
        {
          "data": {
            "text/plain": [
              "list"
            ]
          },
          "execution_count": 2,
          "metadata": {},
          "output_type": "execute_result"
        }
      ],
      "source": [
        "type(mylist)"
      ]
    },
    {
      "cell_type": "code",
      "execution_count": null,
      "id": "ef4f77f5",
      "metadata": {
        "id": "ef4f77f5"
      },
      "outputs": [],
      "source": [
        "thislist=[\"apple\",\"banana\",'orange',\"peach\"]"
      ]
    },
    {
      "cell_type": "code",
      "execution_count": null,
      "id": "9b174bcd",
      "metadata": {
        "id": "9b174bcd",
        "outputId": "c06fedfe-6bf8-4caf-9738-88c52ca2085d"
      },
      "outputs": [
        {
          "data": {
            "text/plain": [
              "'orange'"
            ]
          },
          "execution_count": 9,
          "metadata": {},
          "output_type": "execute_result"
        }
      ],
      "source": [
        "# indexing returns the item\n",
        "thislist[2]"
      ]
    },
    {
      "cell_type": "code",
      "execution_count": null,
      "id": "f2bc66c2",
      "metadata": {
        "id": "f2bc66c2",
        "outputId": "5d1e70db-cd95-419b-c7e2-5a38ee347bdf"
      },
      "outputs": [
        {
          "data": {
            "text/plain": [
              "[4, 5, 6]"
            ]
          },
          "execution_count": 10,
          "metadata": {},
          "output_type": "execute_result"
        }
      ],
      "source": [
        "# slicing returns a new list\n",
        "mylist[3:]"
      ]
    },
    {
      "cell_type": "markdown",
      "id": "14b387a3",
      "metadata": {
        "id": "14b387a3"
      },
      "source": [
        "### Lists also support operations like concatenation:"
      ]
    },
    {
      "cell_type": "code",
      "execution_count": null,
      "id": "e3d8e8eb",
      "metadata": {
        "id": "e3d8e8eb",
        "outputId": "994867be-19e0-4ab3-9d79-8b4fc62060de"
      },
      "outputs": [
        {
          "name": "stdout",
          "output_type": "stream",
          "text": [
            "[1, 2, 3, 4, 5, 6, 'apple', 'banana', 'orange', 'peach']\n"
          ]
        }
      ],
      "source": [
        "newlist = mylist + thislist\n",
        "print(newlist)"
      ]
    },
    {
      "cell_type": "code",
      "execution_count": null,
      "id": "34f2368a",
      "metadata": {
        "id": "34f2368a",
        "outputId": "b81547c7-66c1-4cbb-9bf1-859b093143a7"
      },
      "outputs": [
        {
          "name": "stdout",
          "output_type": "stream",
          "text": [
            "[1, 2, 3, 4, 5, 6]\n"
          ]
        }
      ],
      "source": [
        "numberlist=newlist[:6]\n",
        "print(numberlist)"
      ]
    },
    {
      "cell_type": "code",
      "execution_count": null,
      "id": "7f77dc29",
      "metadata": {
        "id": "7f77dc29",
        "outputId": "0463cc76-cf10-42db-ac79-a8581221cd6d"
      },
      "outputs": [
        {
          "name": "stdout",
          "output_type": "stream",
          "text": [
            "['apple', 'banana', 'orange', 'peach']\n"
          ]
        }
      ],
      "source": [
        "fruitlist=newlist[6:]\n",
        "print(fruitlist)"
      ]
    },
    {
      "cell_type": "code",
      "execution_count": null,
      "id": "3a204deb",
      "metadata": {
        "id": "3a204deb",
        "outputId": "a30e03f4-38ad-45d4-a425-749e1b8fdd12"
      },
      "outputs": [
        {
          "name": "stdout",
          "output_type": "stream",
          "text": [
            "[1, 2, 3, 4, 5, 6, 7, 8, 9, 10]\n"
          ]
        }
      ],
      "source": [
        "# add\n",
        "new_numberlist=numberlist+[7,8,9,10]\n",
        "print(new_numberlist)"
      ]
    },
    {
      "cell_type": "code",
      "execution_count": null,
      "id": "d5186388",
      "metadata": {
        "id": "d5186388",
        "outputId": "401e2997-d751-41c2-c963-30b2e39a866a"
      },
      "outputs": [
        {
          "data": {
            "text/plain": [
              "10"
            ]
          },
          "execution_count": 17,
          "metadata": {},
          "output_type": "execute_result"
        }
      ],
      "source": [
        "#length\n",
        "len(new_numberlist)"
      ]
    },
    {
      "cell_type": "code",
      "execution_count": null,
      "id": "9bc26f62",
      "metadata": {
        "id": "9bc26f62"
      },
      "outputs": [],
      "source": [
        "# something's wrong here\n",
        "cubes=[1,8,27,65,125] # 65 is wrong values"
      ]
    },
    {
      "cell_type": "code",
      "execution_count": null,
      "id": "46b8ec4d",
      "metadata": {
        "id": "46b8ec4d",
        "outputId": "08c00576-82f2-4b69-d213-2acec7e9ba16"
      },
      "outputs": [
        {
          "data": {
            "text/plain": [
              "64"
            ]
          },
          "execution_count": 22,
          "metadata": {},
          "output_type": "execute_result"
        }
      ],
      "source": [
        "4**3"
      ]
    },
    {
      "cell_type": "code",
      "execution_count": null,
      "id": "648f59e7",
      "metadata": {
        "id": "648f59e7",
        "outputId": "dfe287aa-6273-4a82-d78c-bacdb92a45a8"
      },
      "outputs": [
        {
          "name": "stdout",
          "output_type": "stream",
          "text": [
            "64\n"
          ]
        }
      ],
      "source": [
        "cubes[3]=64 # replace the wrong value\n",
        "print(cubes[3])"
      ]
    },
    {
      "cell_type": "code",
      "execution_count": null,
      "id": "c6b5b8da",
      "metadata": {
        "id": "c6b5b8da",
        "outputId": "f8b1c1b5-a881-40bf-e760-cac8fdd6e440"
      },
      "outputs": [
        {
          "name": "stdout",
          "output_type": "stream",
          "text": [
            "[1, 8, 27, 64, 125]\n"
          ]
        }
      ],
      "source": [
        "print(cubes)"
      ]
    },
    {
      "cell_type": "markdown",
      "id": "c98f5aeb",
      "metadata": {
        "id": "c98f5aeb"
      },
      "source": [
        "You can also add new items at the end of the list, by using the list.append() method (we will see more about methods later):"
      ]
    },
    {
      "cell_type": "code",
      "execution_count": null,
      "id": "00e10a09",
      "metadata": {
        "id": "00e10a09"
      },
      "outputs": [],
      "source": [
        "cubes.append(216)"
      ]
    },
    {
      "cell_type": "code",
      "execution_count": null,
      "id": "cd90676c",
      "metadata": {
        "id": "cd90676c",
        "outputId": "71d6753e-7267-47f7-eeac-e95539d6054b"
      },
      "outputs": [
        {
          "data": {
            "text/plain": [
              "[1, 8, 27, 64, 125, 216]"
            ]
          },
          "execution_count": 27,
          "metadata": {},
          "output_type": "execute_result"
        }
      ],
      "source": [
        "cubes"
      ]
    },
    {
      "cell_type": "code",
      "execution_count": null,
      "id": "7e008148",
      "metadata": {
        "id": "7e008148"
      },
      "outputs": [],
      "source": [
        "cubes.append(7**3)"
      ]
    },
    {
      "cell_type": "code",
      "execution_count": null,
      "id": "48ecff83",
      "metadata": {
        "id": "48ecff83",
        "outputId": "b4397d32-4b7e-4f07-94b4-70ef456934e8"
      },
      "outputs": [
        {
          "name": "stdout",
          "output_type": "stream",
          "text": [
            "[1, 8, 27, 64, 125, 216, 343]\n"
          ]
        }
      ],
      "source": [
        "print(cubes)"
      ]
    },
    {
      "cell_type": "code",
      "execution_count": null,
      "id": "b0fb216c",
      "metadata": {
        "id": "b0fb216c"
      },
      "outputs": [],
      "source": [
        "cubes.append(\"this are cube numbers\")"
      ]
    },
    {
      "cell_type": "code",
      "execution_count": null,
      "id": "ea39c764",
      "metadata": {
        "id": "ea39c764",
        "outputId": "dd15f46e-d390-43df-939b-2d4a96623b2f"
      },
      "outputs": [
        {
          "name": "stdout",
          "output_type": "stream",
          "text": [
            "[1, 8, 27, 64, 125, 216, 343, 'this is cube numbers', 'this are cube numbers', 'this are cube numbers']\n"
          ]
        }
      ],
      "source": [
        "print(cubes)"
      ]
    },
    {
      "cell_type": "code",
      "execution_count": null,
      "id": "268eec53",
      "metadata": {
        "id": "268eec53"
      },
      "outputs": [],
      "source": [
        "letters = ['a', 'b', 'c', 'd', 'e', 'f', 'g']\n",
        "letters\n",
        "['a', 'b', 'c', 'd', 'e', 'f', 'g']\n",
        "# replace some values\n",
        "letters[2:5] = ['C', 'D', 'E']\n",
        "letters\n",
        "['a', 'b', 'C', 'D', 'E', 'f', 'g']\n",
        "# now remove them\n",
        "letters[2:5] = []\n",
        "letters\n",
        "['a', 'b', 'f', 'g']\n",
        "# clear the list by replacing all the elements with an empty list\n",
        "letters[:] = []\n",
        "letters\n",
        "[]"
      ]
    },
    {
      "cell_type": "code",
      "execution_count": null,
      "id": "fa494e90",
      "metadata": {
        "id": "fa494e90"
      },
      "outputs": [],
      "source": []
    }
  ],
  "metadata": {
    "kernelspec": {
      "display_name": "Python 3",
      "language": "python",
      "name": "python3"
    },
    "language_info": {
      "codemirror_mode": {
        "name": "ipython",
        "version": 3
      },
      "file_extension": ".py",
      "mimetype": "text/x-python",
      "name": "python",
      "nbconvert_exporter": "python",
      "pygments_lexer": "ipython3",
      "version": "3.8.8"
    },
    "colab": {
      "provenance": [],
      "include_colab_link": true
    }
  },
  "nbformat": 4,
  "nbformat_minor": 5
}