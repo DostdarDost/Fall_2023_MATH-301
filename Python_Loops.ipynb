{
  "nbformat": 4,
  "nbformat_minor": 0,
  "metadata": {
    "colab": {
      "provenance": [],
      "authorship_tag": "ABX9TyOPWW+1sSMOKyNaxvTVXhwA",
      "include_colab_link": true
    },
    "kernelspec": {
      "name": "python3",
      "display_name": "Python 3"
    },
    "language_info": {
      "name": "python"
    }
  },
  "cells": [
    {
      "cell_type": "markdown",
      "metadata": {
        "id": "view-in-github",
        "colab_type": "text"
      },
      "source": [
        "<a href=\"https://colab.research.google.com/github/DostdarDost/Teaching-Courses/blob/Courses/Python_Loops.ipynb\" target=\"_parent\"><img src=\"https://colab.research.google.com/assets/colab-badge.svg\" alt=\"Open In Colab\"/></a>"
      ]
    },
    {
      "cell_type": "markdown",
      "source": [
        "# Python Loop in list\n",
        "\n",
        "### Loop Through a List\n",
        "You can loop through the list items by using a for loop:\n",
        "## Example\n",
        "Print all items in the list, one by one:"
      ],
      "metadata": {
        "id": "6NWSvJNelMjl"
      }
    },
    {
      "cell_type": "code",
      "execution_count": 3,
      "metadata": {
        "colab": {
          "base_uri": "https://localhost:8080/"
        },
        "id": "rlGdMO9clDPE",
        "outputId": "79a27c29-5a5c-467a-f8a8-b37ba6cccd7c"
      },
      "outputs": [
        {
          "output_type": "stream",
          "name": "stdout",
          "text": [
            "apple\n",
            "banana\n",
            "cherry\n"
          ]
        }
      ],
      "source": [
        "thislist = [\"apple\", \"banana\", \"cherry\"]\n",
        "for x in thislist:\n",
        "  print(x)\n"
      ]
    },
    {
      "cell_type": "markdown",
      "source": [
        "## Loop Through the Index Numbers\n",
        "You can also loop through the list items by referring to their index number.\n",
        "\n",
        "Use the range() and len() functions to create a suitable iterable."
      ],
      "metadata": {
        "id": "BWPs8QzNnCZv"
      }
    },
    {
      "cell_type": "markdown",
      "source": [
        "## Example\n",
        "Print all items by referring to their index number:\n"
      ],
      "metadata": {
        "id": "RGOcnWk2nVF8"
      }
    },
    {
      "cell_type": "code",
      "source": [
        "thislist = [\"apple\", \"banana\", \"cherry\"]\n",
        "for y in range(len(thislist)):\n",
        "  print(thislist[y])"
      ],
      "metadata": {
        "colab": {
          "base_uri": "https://localhost:8080/"
        },
        "id": "mXPBk2JFnQ1S",
        "outputId": "95d83290-4f17-4c37-b80e-402b6b288b4a"
      },
      "execution_count": 8,
      "outputs": [
        {
          "output_type": "stream",
          "name": "stdout",
          "text": [
            "apple\n",
            "banana\n",
            "cherry\n"
          ]
        }
      ]
    },
    {
      "cell_type": "markdown",
      "source": [
        "## Using a While Loop\n",
        "### You can loop through the list items by using a while loop.\n",
        "\n",
        "Use the len() function to determine the length of the list, then start at 0 and loop your way through the list items by referring to their indexes.\n",
        "\n",
        "Remember to increase the index by 1 after each iteration."
      ],
      "metadata": {
        "id": "rGYVZcfnqtIa"
      }
    },
    {
      "cell_type": "markdown",
      "source": [
        "## Example\n",
        "Print all items, using a while loop to go through all the index numbers"
      ],
      "metadata": {
        "id": "nNAZwGzorRtM"
      }
    },
    {
      "cell_type": "code",
      "source": [
        "thislist = [\"apple\", \"banana\", \"cherry\"]\n",
        "i = 0\n",
        "while i < len(thislist):\n",
        "  print(thislist[i])\n",
        "  i = i + 1"
      ],
      "metadata": {
        "id": "5pbrIXxiqr7t"
      },
      "execution_count": null,
      "outputs": []
    },
    {
      "cell_type": "markdown",
      "source": [
        "## Python - Loop Tuples\n",
        "## Loop Through a Tuple\n",
        "You can loop through the tuple items by using a for loop."
      ],
      "metadata": {
        "id": "BfQzRczEvgvk"
      }
    },
    {
      "cell_type": "markdown",
      "source": [
        "## Example\n",
        "Iterate through the items and print the values:"
      ],
      "metadata": {
        "id": "ZjaAm1ADv8Yu"
      }
    },
    {
      "cell_type": "code",
      "source": [
        "thistuple = (\"apple\", \"banana\", \"cherry\")\n",
        "for x in thistuple:\n",
        "  print(x)"
      ],
      "metadata": {
        "colab": {
          "base_uri": "https://localhost:8080/"
        },
        "id": "HuHxmVZzvwjH",
        "outputId": "8638b374-d487-4341-882d-e5790c403e61"
      },
      "execution_count": 9,
      "outputs": [
        {
          "output_type": "stream",
          "name": "stdout",
          "text": [
            "apple\n",
            "banana\n",
            "cherry\n"
          ]
        }
      ]
    },
    {
      "cell_type": "markdown",
      "source": [
        "## Loop Through the Index Numbers\n",
        "You can also loop through the tuple items by referring to their index number.\n",
        "\n",
        "Use the range() and len() functions to create a suitable iterable.\n",
        "\n",
        "## Example\n",
        "Print all items by referring to their index number:\n"
      ],
      "metadata": {
        "id": "3P8hVfJUwTYi"
      }
    },
    {
      "cell_type": "code",
      "source": [
        "thistuple = (\"apple\", \"banana\", \"cherry\")\n",
        "for i in range(len(thistuple)):\n",
        "  print(thistuple[i])"
      ],
      "metadata": {
        "colab": {
          "base_uri": "https://localhost:8080/"
        },
        "id": "SV0G5r1EwZju",
        "outputId": "d6fe1261-fe0b-4273-d171-b48c0c9045f9"
      },
      "execution_count": 10,
      "outputs": [
        {
          "output_type": "stream",
          "name": "stdout",
          "text": [
            "apple\n",
            "banana\n",
            "cherry\n"
          ]
        }
      ]
    },
    {
      "cell_type": "markdown",
      "source": [
        "## Using a While Loop\n",
        "You can loop through the tuple items by using a while loop.\n",
        "\n",
        "Use the len() function to determine the length of the tuple, then start at 0 and loop your way through the tuple items by referring to their indexes.\n",
        "\n",
        "Remember to increase the index by 1 after each iteration.\n",
        "\n",
        "## Example\n",
        "Print all items, using a while loop to go through all the index numbers:\n",
        "\n"
      ],
      "metadata": {
        "id": "OA_PlrnAw1fQ"
      }
    },
    {
      "cell_type": "code",
      "source": [
        "thistuple = (\"apple\", \"banana\", \"cherry\")\n",
        "i = 0\n",
        "while i < len(thistuple):\n",
        "  print(thistuple[i])\n",
        "  i = i + 1"
      ],
      "metadata": {
        "colab": {
          "base_uri": "https://localhost:8080/"
        },
        "id": "zaFWVZ_bw7uQ",
        "outputId": "e917f78b-ccb0-4f07-d25b-6cd73ffa8598"
      },
      "execution_count": 11,
      "outputs": [
        {
          "output_type": "stream",
          "name": "stdout",
          "text": [
            "apple\n",
            "banana\n",
            "cherry\n"
          ]
        }
      ]
    },
    {
      "cell_type": "markdown",
      "source": [
        "## Python - Loop Sets\n",
        "## Loop Items\n",
        "You can loop through the set items by using a for loop:\n",
        "\n",
        "## Example\n",
        "Loop through the set, and print the values:"
      ],
      "metadata": {
        "id": "fjupf_NYxOue"
      }
    },
    {
      "cell_type": "code",
      "source": [
        "thisset = {\"apple\", \"banana\", \"cherry\"}\n",
        "\n",
        "for x in thisset:\n",
        "  print(x)"
      ],
      "metadata": {
        "colab": {
          "base_uri": "https://localhost:8080/"
        },
        "id": "xp8UsgXWxQA0",
        "outputId": "9bcd079c-1f58-4b5c-e1a4-a1d2211dfa52"
      },
      "execution_count": 12,
      "outputs": [
        {
          "output_type": "stream",
          "name": "stdout",
          "text": [
            "apple\n",
            "cherry\n",
            "banana\n"
          ]
        }
      ]
    }
  ]
}