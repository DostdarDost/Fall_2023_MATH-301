{
  "nbformat": 4,
  "nbformat_minor": 0,
  "metadata": {
    "colab": {
      "provenance": [],
      "authorship_tag": "ABX9TyNtcp0RDG4oWKmhbHPcNk9y",
      "include_colab_link": true
    },
    "kernelspec": {
      "name": "python3",
      "display_name": "Python 3"
    },
    "language_info": {
      "name": "python"
    }
  },
  "cells": [
    {
      "cell_type": "markdown",
      "metadata": {
        "id": "view-in-github",
        "colab_type": "text"
      },
      "source": [
        "<a href=\"https://colab.research.google.com/github/DostdarDost/Teaching-Courses/blob/Courses/Python_Add_List_Items.ipynb\" target=\"_parent\"><img src=\"https://colab.research.google.com/assets/colab-badge.svg\" alt=\"Open In Colab\"/></a>"
      ]
    },
    {
      "cell_type": "markdown",
      "source": [
        "# Python - Add List Items\n",
        "## 1. Append Items\n",
        "To add an item to the end of the list, use the append() method:\n",
        "## Example\n",
        "Using the append() method to append an item:"
      ],
      "metadata": {
        "id": "SeBKrmdo8Qg_"
      }
    },
    {
      "cell_type": "code",
      "execution_count": 1,
      "metadata": {
        "colab": {
          "base_uri": "https://localhost:8080/"
        },
        "id": "Nnr5ylz58Nz0",
        "outputId": "e005ce28-dd44-47fe-9dda-80366060b2ea"
      },
      "outputs": [
        {
          "output_type": "stream",
          "name": "stdout",
          "text": [
            "['apple', 'banana', 'cherry', 'orange']\n"
          ]
        }
      ],
      "source": [
        "mylist = [\"apple\", \"banana\", \"cherry\"]\n",
        "mylist.append(\"orange\") # dot append method\n",
        "print(mylist)"
      ]
    },
    {
      "cell_type": "markdown",
      "source": [
        "## 2. Insert Items\n",
        "To insert a list item at a specified index, use the insert() method.\n",
        "\n",
        "The insert() method inserts an item at the specified index:"
      ],
      "metadata": {
        "id": "zc8lxaSr9jhW"
      }
    },
    {
      "cell_type": "markdown",
      "source": [
        "## Example\n",
        "Insert an item as the second position:"
      ],
      "metadata": {
        "id": "jQFe2k71-LNe"
      }
    },
    {
      "cell_type": "code",
      "source": [
        "mylist = [\"apple\", \"banana\", \"cherry\"]\n",
        "mylist.insert(1, \"orange\")# dot insert method\n",
        "print(mylist)"
      ],
      "metadata": {
        "colab": {
          "base_uri": "https://localhost:8080/"
        },
        "id": "CE3yN1oM-PJq",
        "outputId": "ada1f500-5342-4503-a938-7871bbd22edf"
      },
      "execution_count": 2,
      "outputs": [
        {
          "output_type": "stream",
          "name": "stdout",
          "text": [
            "['apple', 'orange', 'banana', 'cherry']\n"
          ]
        }
      ]
    },
    {
      "cell_type": "markdown",
      "source": [
        "## Extend List\n",
        "To append elements from another list to the current list, use the extend() method.\n",
        "\n",
        "## Example\n",
        "Add the elements of mylist to thislist:\n",
        "\n"
      ],
      "metadata": {
        "id": "t4vDdZPoAclJ"
      }
    },
    {
      "cell_type": "code",
      "source": [
        "thislist = [\"apple\", \"banana\", \"cherry\"]\n",
        "mylist = [\"mango\", \"pineapple\", \"papaya\"]\n",
        "thislist.extend(mylist)\n",
        "print(thislist)"
      ],
      "metadata": {
        "colab": {
          "base_uri": "https://localhost:8080/"
        },
        "id": "RWKTkO0XAre-",
        "outputId": "e8e4b60c-7c20-4bf9-bf7e-f0f312ee6512"
      },
      "execution_count": 3,
      "outputs": [
        {
          "output_type": "stream",
          "name": "stdout",
          "text": [
            "['apple', 'banana', 'cherry', 'mango', 'pineapple', 'papaya']\n"
          ]
        }
      ]
    },
    {
      "cell_type": "markdown",
      "source": [
        "## Add Any Iterable\n",
        "The extend() method does not have to append lists, you can add any iterable object (tuples, sets, dictionaries etc.).\n",
        "\n",
        "## Example\n",
        "Add elements of a tuple to a list:\n",
        "\n"
      ],
      "metadata": {
        "id": "aO9dHYVpBfgu"
      }
    },
    {
      "cell_type": "code",
      "source": [
        "thislist = [\"apple\", \"banana\", \"cherry\"]\n",
        "thistuple = (\"kiwi\", \"orange\")\n",
        "thislist.extend(thistuple)\n",
        "print(thislist)"
      ],
      "metadata": {
        "colab": {
          "base_uri": "https://localhost:8080/"
        },
        "id": "-PZQy7GsBnj2",
        "outputId": "ea7fcb01-7441-4a9a-e4d9-1ecf8ace4be5"
      },
      "execution_count": 4,
      "outputs": [
        {
          "output_type": "stream",
          "name": "stdout",
          "text": [
            "['apple', 'banana', 'cherry', 'kiwi', 'orange']\n"
          ]
        }
      ]
    },
    {
      "cell_type": "markdown",
      "source": [
        "# Python - Remove List Items\n",
        "## Remove Specified Item\n",
        "The remove() method removes the specified item.\n",
        "\n",
        "## Example\n",
        "Remove \"banana\":\n"
      ],
      "metadata": {
        "id": "wNtg9N_wDuR8"
      }
    },
    {
      "cell_type": "code",
      "source": [
        "thislist = [\"apple\", \"banana\", \"cherry\"]\n",
        "thislist.remove(\"banana\")\n",
        "print(thislist)"
      ],
      "metadata": {
        "colab": {
          "base_uri": "https://localhost:8080/"
        },
        "id": "Fmn6aFlsETpY",
        "outputId": "4b786787-95eb-4f37-fa93-de791706aa2e"
      },
      "execution_count": 5,
      "outputs": [
        {
          "output_type": "stream",
          "name": "stdout",
          "text": [
            "['apple', 'cherry']\n"
          ]
        }
      ]
    },
    {
      "cell_type": "markdown",
      "source": [
        "If there are more than one item with the specified value, the remove() method removes the first occurrence:\n",
        "\n",
        "## Example\n",
        "Remove the first occurrence of \"banana\":\n"
      ],
      "metadata": {
        "id": "_eGCniHjFYfm"
      }
    },
    {
      "cell_type": "code",
      "source": [
        "\n",
        "thislist = [\"apple\", \"banana\", \"cherry\", \"banana\", \"kiwi\"]\n",
        "thislist.remove(\"banana\")\n",
        "print(thislist)"
      ],
      "metadata": {
        "colab": {
          "base_uri": "https://localhost:8080/"
        },
        "id": "obv7mag_BOhd",
        "outputId": "97880721-4982-419e-fa0b-f30328c195c9"
      },
      "execution_count": 6,
      "outputs": [
        {
          "output_type": "stream",
          "name": "stdout",
          "text": [
            "['apple', 'cherry', 'banana', 'kiwi']\n"
          ]
        }
      ]
    },
    {
      "cell_type": "markdown",
      "source": [
        "## Remove Specified Index\n",
        "The pop() method removes the specified index.\n",
        "\n",
        "## Example\n",
        "Remove the second item:\n",
        "\n"
      ],
      "metadata": {
        "id": "ELu_6YhHF262"
      }
    },
    {
      "cell_type": "code",
      "source": [
        "thislist = [\"apple\", \"banana\", \"cherry\"]\n",
        "thislist.pop(1)\n",
        "print(thislist)"
      ],
      "metadata": {
        "colab": {
          "base_uri": "https://localhost:8080/"
        },
        "id": "TQkYvyNmF_aw",
        "outputId": "07d2cbe6-65fa-49db-b1ec-3949aec08827"
      },
      "execution_count": 7,
      "outputs": [
        {
          "output_type": "stream",
          "name": "stdout",
          "text": [
            "['apple', 'cherry']\n"
          ]
        }
      ]
    },
    {
      "cell_type": "markdown",
      "source": [
        "If you do not specify the index, the pop() method removes the last item.\n",
        "\n",
        "## Example\n",
        "Remove the last item:\n",
        "\n"
      ],
      "metadata": {
        "id": "vy6FxvRxGV5P"
      }
    },
    {
      "cell_type": "code",
      "source": [
        "thislist = [\"apple\", \"banana\", \"cherry\"]\n",
        "thislist.pop()\n",
        "print(thislist)"
      ],
      "metadata": {
        "colab": {
          "base_uri": "https://localhost:8080/"
        },
        "id": "5MZh2wfkGZxQ",
        "outputId": "153acf1c-3b00-4c7d-f7cd-4847eea28e91"
      },
      "execution_count": 8,
      "outputs": [
        {
          "output_type": "stream",
          "name": "stdout",
          "text": [
            "['apple', 'banana']\n"
          ]
        }
      ]
    },
    {
      "cell_type": "markdown",
      "source": [
        "The del keyword also removes the specified index:\n",
        "\n",
        "## Example\n",
        "Remove the first item:\n"
      ],
      "metadata": {
        "id": "aQZMcRw3G-Fo"
      }
    },
    {
      "cell_type": "code",
      "source": [
        "thislist = [\"apple\", \"banana\", \"cherry\"]\n",
        "del thislist[0]\n",
        "print(thislist)"
      ],
      "metadata": {
        "colab": {
          "base_uri": "https://localhost:8080/"
        },
        "id": "cAtu1ADDHD1f",
        "outputId": "38030156-e7aa-482d-ed92-c983c9d6cbbb"
      },
      "execution_count": 9,
      "outputs": [
        {
          "output_type": "stream",
          "name": "stdout",
          "text": [
            "['banana', 'cherry']\n"
          ]
        }
      ]
    },
    {
      "cell_type": "markdown",
      "source": [
        "The del keyword can also delete the list completely.\n",
        "\n",
        "## Example\n",
        "Delete the entire list:\n",
        "\n"
      ],
      "metadata": {
        "id": "fLWrQVHlHfPZ"
      }
    },
    {
      "cell_type": "code",
      "source": [
        "thislist = [\"apple\", \"banana\", \"cherry\"]\n",
        "del thislist\n"
      ],
      "metadata": {
        "id": "vqc2ZrZhHjVo"
      },
      "execution_count": 10,
      "outputs": []
    },
    {
      "cell_type": "markdown",
      "source": [
        "## Clear the List\n",
        "The clear() method empties the list.\n",
        "\n",
        "The list still remains, but it has no content.\n",
        "\n",
        "## Example\n",
        "Clear the list content:\n"
      ],
      "metadata": {
        "id": "9jni8sIwHx7a"
      }
    },
    {
      "cell_type": "code",
      "source": [
        "thislist = [\"apple\", \"banana\", \"cherry\"]\n",
        "thislist.clear()\n",
        "print(thislist)"
      ],
      "metadata": {
        "colab": {
          "base_uri": "https://localhost:8080/"
        },
        "id": "qe6ivPVoH3F8",
        "outputId": "e5819855-16ea-4e65-bf42-cbc10c413f05"
      },
      "execution_count": 11,
      "outputs": [
        {
          "output_type": "stream",
          "name": "stdout",
          "text": [
            "[]\n"
          ]
        }
      ]
    }
  ]
}