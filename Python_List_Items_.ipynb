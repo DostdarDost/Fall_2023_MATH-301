{
  "nbformat": 4,
  "nbformat_minor": 0,
  "metadata": {
    "colab": {
      "provenance": [],
      "authorship_tag": "ABX9TyMxdeLL7IfszgEdldZfsyi5",
      "include_colab_link": true
    },
    "kernelspec": {
      "name": "python3",
      "display_name": "Python 3"
    },
    "language_info": {
      "name": "python"
    }
  },
  "cells": [
    {
      "cell_type": "markdown",
      "metadata": {
        "id": "view-in-github",
        "colab_type": "text"
      },
      "source": [
        "<a href=\"https://colab.research.google.com/github/DostdarDost/Teaching-Courses/blob/Courses/Python_List_Items_.ipynb\" target=\"_parent\"><img src=\"https://colab.research.google.com/assets/colab-badge.svg\" alt=\"Open In Colab\"/></a>"
      ]
    },
    {
      "cell_type": "markdown",
      "source": [
        "# Python list and its operations"
      ],
      "metadata": {
        "id": "eIdBVQ18xd7o"
      }
    },
    {
      "cell_type": "markdown",
      "source": [
        "### 1 Python - Access List Items\n",
        "List items are indexed and you can access them by referring to the index number:\n",
        "# Example\n",
        "Print the second item of the list:"
      ],
      "metadata": {
        "id": "z9PA7CoLxoKb"
      }
    },
    {
      "cell_type": "code",
      "execution_count": 1,
      "metadata": {
        "colab": {
          "base_uri": "https://localhost:8080/"
        },
        "id": "UJv_9JkRxVIw",
        "outputId": "5dca6ddc-ce5a-4ace-e0de-55c9c50643c8"
      },
      "outputs": [
        {
          "output_type": "stream",
          "name": "stdout",
          "text": [
            "banana\n"
          ]
        }
      ],
      "source": [
        "# how to access to item in list by using index\n",
        "thislist = [\"apple\", \"banana\", \"cherry\"]\n",
        "print(thislist[1])"
      ]
    },
    {
      "cell_type": "markdown",
      "source": [
        "##### Note: The first item has index 0."
      ],
      "metadata": {
        "id": "XsGjVXJ3yZTe"
      }
    },
    {
      "cell_type": "markdown",
      "source": [
        "### Negative Indexing\n",
        "Negative indexing means start from the end\n",
        "\n",
        "-1 refers to the last item, -2 refers to the second last item etc."
      ],
      "metadata": {
        "id": "VhP9RriFyktE"
      }
    },
    {
      "cell_type": "markdown",
      "source": [
        "## Example\n",
        "Print the last item of the list:"
      ],
      "metadata": {
        "id": "Wsnj8gimy6Pg"
      }
    },
    {
      "cell_type": "code",
      "source": [
        "print(thislist[-1])"
      ],
      "metadata": {
        "colab": {
          "base_uri": "https://localhost:8080/"
        },
        "id": "_1mDXbKDyjH3",
        "outputId": "394d9b88-bad7-4d4c-f94c-be03f29709db"
      },
      "execution_count": 2,
      "outputs": [
        {
          "output_type": "stream",
          "name": "stdout",
          "text": [
            "cherry\n"
          ]
        }
      ]
    },
    {
      "cell_type": "markdown",
      "source": [
        "## Range of Indexes\n",
        "You can specify a range of indexes by specifying where to start and where to end the range.\n",
        "\n",
        "When specifying a range, the return value will be a new list with the specified items."
      ],
      "metadata": {
        "id": "1xa4tcppzNcZ"
      }
    },
    {
      "cell_type": "markdown",
      "source": [
        "## Example\n",
        "Return the third, fourth, and fifth item:\n"
      ],
      "metadata": {
        "id": "pTFAyal3zTck"
      }
    },
    {
      "cell_type": "code",
      "source": [
        "\n",
        "thislist = [\"apple\", \"banana\", \"cherry\", \"orange\", \"kiwi\", \"melon\", \"mango\"]\n",
        "print(thislist[2:5])"
      ],
      "metadata": {
        "colab": {
          "base_uri": "https://localhost:8080/"
        },
        "id": "hXCCYd6Jy-gN",
        "outputId": "a4904cae-0e24-408a-ddc4-1f567270d92a"
      },
      "execution_count": 3,
      "outputs": [
        {
          "output_type": "stream",
          "name": "stdout",
          "text": [
            "['cherry', 'orange', 'kiwi']\n"
          ]
        }
      ]
    },
    {
      "cell_type": "markdown",
      "source": [
        "Note: The search will start at index 2 (included) and end at index 5 (not included).\n",
        "By leaving out the start value, the range will start at the first item:\n",
        "## Example\n",
        "This example returns the items from the beginning to, but NOT including, \"kiwi\":"
      ],
      "metadata": {
        "id": "9WRL_WZQzzmI"
      }
    },
    {
      "cell_type": "code",
      "source": [
        "# 4th index is not including where kiwi\n",
        "thislist = [\"apple\", \"banana\", \"cherry\", \"orange\", \"kiwi\", \"melon\", \"mango\"]\n",
        "print(thislist[:4])"
      ],
      "metadata": {
        "colab": {
          "base_uri": "https://localhost:8080/"
        },
        "id": "3mvef_cl0C3B",
        "outputId": "d1168af0-b516-4cc2-947c-d0d21d6c8856"
      },
      "execution_count": 4,
      "outputs": [
        {
          "output_type": "stream",
          "name": "stdout",
          "text": [
            "['apple', 'banana', 'cherry', 'orange']\n"
          ]
        }
      ]
    },
    {
      "cell_type": "markdown",
      "source": [
        "By leaving out the end value, the range will go on to the end of the list:"
      ],
      "metadata": {
        "id": "r9FpqSpz1FCI"
      }
    },
    {
      "cell_type": "code",
      "source": [
        "# 2nd index is included\n",
        "print(thislist[2:])"
      ],
      "metadata": {
        "colab": {
          "base_uri": "https://localhost:8080/"
        },
        "id": "oCkfX7jl1eUk",
        "outputId": "b3781680-9890-4546-ad0b-3650984d5bc4"
      },
      "execution_count": 6,
      "outputs": [
        {
          "output_type": "stream",
          "name": "stdout",
          "text": [
            "['cherry', 'orange', 'kiwi', 'melon', 'mango']\n"
          ]
        }
      ]
    },
    {
      "cell_type": "markdown",
      "source": [
        "## Range of Negative Indexes\n",
        "Specify negative indexes if you want to start the search from the end of the list:\n",
        "## Example\n",
        "This example returns the items from \"orange\" (-4) to, but NOT including \"mango\" (-1):"
      ],
      "metadata": {
        "id": "wo3N8H2Y2H-d"
      }
    },
    {
      "cell_type": "code",
      "source": [
        "print(thislist[-4:-1])"
      ],
      "metadata": {
        "colab": {
          "base_uri": "https://localhost:8080/"
        },
        "id": "DKO0Wkr52QMX",
        "outputId": "1e257f65-accf-46ba-fb1a-6ade21e301f1"
      },
      "execution_count": 7,
      "outputs": [
        {
          "output_type": "stream",
          "name": "stdout",
          "text": [
            "['orange', 'kiwi', 'melon']\n"
          ]
        }
      ]
    },
    {
      "cell_type": "markdown",
      "source": [
        "## Check if Item Exists\n",
        "## Example\n",
        "Check if \"apple\" is present in the list:"
      ],
      "metadata": {
        "id": "VKHGxyc43FPz"
      }
    },
    {
      "cell_type": "code",
      "source": [
        "thislist = [\"apple\", \"banana\", \"cherry\"]\n",
        "if \"cherry\" in thislist:\n",
        "  print(\"yes chreey in fruit list\")\n",
        "else:\n",
        "  print(\"no chreey in fruit list\")\n"
      ],
      "metadata": {
        "colab": {
          "base_uri": "https://localhost:8080/"
        },
        "id": "SygTmvFa3D54",
        "outputId": "611e7e89-03d9-4a60-c675-6f344906b2c7"
      },
      "execution_count": 12,
      "outputs": [
        {
          "output_type": "stream",
          "name": "stdout",
          "text": [
            "yes chreey in fruit list\n"
          ]
        }
      ]
    },
    {
      "cell_type": "markdown",
      "source": [
        "## Python - Change List Items\n",
        "## Change Item Value\n",
        "To change the value of a specific item, refer to the index number:"
      ],
      "metadata": {
        "id": "hLvyY7W3656-"
      }
    },
    {
      "cell_type": "markdown",
      "source": [
        "## Example\n",
        "Change the second item:"
      ],
      "metadata": {
        "id": "dbS3wJ5q7nG4"
      }
    },
    {
      "cell_type": "code",
      "source": [
        "thislist = [\"apple\", \"banana\", \"cherry\"]\n",
        "print(thislist)\n",
        "thislist[1] = \"blackcurrant\"\n",
        "print(thislist)"
      ],
      "metadata": {
        "colab": {
          "base_uri": "https://localhost:8080/"
        },
        "id": "LNKFGUGL8Eyx",
        "outputId": "11421390-e90e-470b-b455-e81c02a50408"
      },
      "execution_count": 14,
      "outputs": [
        {
          "output_type": "stream",
          "name": "stdout",
          "text": [
            "['apple', 'banana', 'cherry']\n",
            "['apple', 'blackcurrant', 'cherry']\n"
          ]
        }
      ]
    },
    {
      "cell_type": "markdown",
      "source": [
        "## Change a Range of Item Values\n",
        "To change the value of items within a specific range, define a list with the new values, and refer to the range of index numbers where you want to insert the new values:\n",
        "## Example\n",
        "Change the values \"banana\" and \"cherry\" with the values \"blackcurrant\" and \"watermelon\":"
      ],
      "metadata": {
        "id": "l15OSDPf80ik"
      }
    },
    {
      "cell_type": "code",
      "source": [
        "thislist = [\"apple\", \"banana\", \"cherry\", \"orange\", \"kiwi\", \"mango\"]\n",
        "thislist[1:3] = [\"blackcurrant\", \"watermelon\"]\n",
        "print(thislist)"
      ],
      "metadata": {
        "colab": {
          "base_uri": "https://localhost:8080/"
        },
        "id": "RM7Ok1p29GZc",
        "outputId": "5ca1b0c6-d211-4807-e67b-cf7f98561672"
      },
      "execution_count": 15,
      "outputs": [
        {
          "output_type": "stream",
          "name": "stdout",
          "text": [
            "['apple', 'blackcurrant', 'watermelon', 'orange', 'kiwi', 'mango']\n"
          ]
        }
      ]
    },
    {
      "cell_type": "markdown",
      "source": [
        "If you insert more items than you replace, the new items will be inserted where you specified, and the remaining items will move accordingly:\n",
        "## Example\n",
        "Change the second value by replacing it with two new values:"
      ],
      "metadata": {
        "id": "8n1LQ0iR97rr"
      }
    },
    {
      "cell_type": "code",
      "source": [
        "thislist = [\"apple\", \"banana\", \"cherry\"]\n",
        "thislist[1:2] = [\"blackcurrant\", \"watermelon\"]\n",
        "print(thislist)"
      ],
      "metadata": {
        "colab": {
          "base_uri": "https://localhost:8080/"
        },
        "id": "ck2a5qLc82pN",
        "outputId": "aa2c53f9-df65-42e2-bdfe-9be4fd78312d"
      },
      "execution_count": 16,
      "outputs": [
        {
          "output_type": "stream",
          "name": "stdout",
          "text": [
            "['apple', 'blackcurrant', 'watermelon', 'cherry']\n"
          ]
        }
      ]
    },
    {
      "cell_type": "markdown",
      "source": [
        "Note: The length of the list will change when the number of items inserted does not match the number of items replaced.\n",
        "If you insert less items than you replace, the new items will be inserted where you specified, and the remaining items will move accordingly:\n",
        "## Example\n",
        "Change the second and third value by replacing it with one value:\n",
        "\n"
      ],
      "metadata": {
        "id": "Dnhs2Jpk-hDo"
      }
    },
    {
      "cell_type": "code",
      "source": [
        "thislist = [\"apple\", \"banana\", \"cherry\"]\n",
        "thislist[1:3] = [\"watermelon\"]\n",
        "print(thislist)"
      ],
      "metadata": {
        "colab": {
          "base_uri": "https://localhost:8080/"
        },
        "id": "imZYs0wK-gj1",
        "outputId": "a600e8f2-03ee-4b00-d810-ac5dc7ecd48f"
      },
      "execution_count": 17,
      "outputs": [
        {
          "output_type": "stream",
          "name": "stdout",
          "text": [
            "['apple', 'watermelon']\n"
          ]
        }
      ]
    },
    {
      "cell_type": "markdown",
      "source": [
        "## Insert Items\n",
        "To insert a new list item, without replacing any of the existing values, we can use the insert() method.\n",
        "\n",
        "The insert() method inserts an item at the specified index:\n",
        "## Example\n",
        "Insert \"watermelon\" as the third item:"
      ],
      "metadata": {
        "id": "pf8aW0jb_XoL"
      }
    },
    {
      "cell_type": "code",
      "source": [
        "thislist = [\"apple\", \"banana\", \"cherry\"]\n",
        "thislist.insert(3, \"watermelon\")\n",
        "print(thislist)"
      ],
      "metadata": {
        "colab": {
          "base_uri": "https://localhost:8080/"
        },
        "id": "83lEmn-2_dlh",
        "outputId": "bb5bd80c-73b9-47c7-f99d-8ab238d9962f"
      },
      "execution_count": 20,
      "outputs": [
        {
          "output_type": "stream",
          "name": "stdout",
          "text": [
            "['apple', 'banana', 'cherry', 'watermelon']\n"
          ]
        }
      ]
    }
  ]
}