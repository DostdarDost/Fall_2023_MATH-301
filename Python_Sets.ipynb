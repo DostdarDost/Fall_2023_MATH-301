{
  "nbformat": 4,
  "nbformat_minor": 0,
  "metadata": {
    "colab": {
      "provenance": [],
      "authorship_tag": "ABX9TyOtjSpaY5Or+zMTb0syxk9u",
      "include_colab_link": true
    },
    "kernelspec": {
      "name": "python3",
      "display_name": "Python 3"
    },
    "language_info": {
      "name": "python"
    }
  },
  "cells": [
    {
      "cell_type": "markdown",
      "metadata": {
        "id": "view-in-github",
        "colab_type": "text"
      },
      "source": [
        "<a href=\"https://colab.research.google.com/github/DostdarDost/Teaching-Courses/blob/Courses/Python_Sets.ipynb\" target=\"_parent\"><img src=\"https://colab.research.google.com/assets/colab-badge.svg\" alt=\"Open In Colab\"/></a>"
      ]
    },
    {
      "cell_type": "markdown",
      "source": [
        "# Set in Python\n",
        "Python also includes a data type for sets. A set is an unordered collection with no duplicate elements. Basic uses include membership testing and eliminating duplicate entries. Set objects also support mathematical operations like union, intersection, difference, and symmetric difference.\n",
        "\n",
        "Curly braces or the set() function can be used to create sets. Note: to create an empty set you have to use set(), not {}; the latter creates an empty dictionary, a data structure that we discuss in the next section.\n",
        "\n",
        "Here is a brief demonstration:"
      ],
      "metadata": {
        "id": "8jC5TKodmD_B"
      }
    },
    {
      "cell_type": "code",
      "execution_count": 1,
      "metadata": {
        "colab": {
          "base_uri": "https://localhost:8080/"
        },
        "id": "hNaGwEXllzhK",
        "outputId": "c9a4065f-db54-4b0f-94ed-dc82e72b5e82"
      },
      "outputs": [
        {
          "output_type": "stream",
          "name": "stdout",
          "text": [
            "<class 'set'>\n"
          ]
        }
      ],
      "source": [
        "# make a set in python\n",
        "name_0f_set={\"apple\", \"orange\",\"banana\"}\n",
        "print(type(name_0f_set))"
      ]
    },
    {
      "cell_type": "markdown",
      "source": [
        "### Set\n",
        "Sets are used to store multiple items in a single variable.\n",
        "\n",
        "Set is one of 4 built-in data types in Python used to store collections of data, the other 3 are List, Tuple, and Dictionary, all with different qualities and usage.\n",
        "\n",
        "A set is a collection which is unordered, unchangeable*, and unindexed."
      ],
      "metadata": {
        "id": "UnHEnB0jnnq5"
      }
    },
    {
      "cell_type": "markdown",
      "source": [
        "### Duplicates Not Allowed"
      ],
      "metadata": {
        "id": "namouYygqnPt"
      }
    },
    {
      "cell_type": "code",
      "source": [
        "# Not allow repeation\n",
        "name_0f_set={\"apple\", \"orange\",\"banana\", \"apple\"}\n",
        "name_0f_set"
      ],
      "metadata": {
        "colab": {
          "base_uri": "https://localhost:8080/"
        },
        "id": "FjQMS5HVnr_7",
        "outputId": "929f687a-b619-400b-e0f6-3dc9514eda5c"
      },
      "execution_count": 2,
      "outputs": [
        {
          "output_type": "execute_result",
          "data": {
            "text/plain": [
              "{'apple', 'banana', 'orange'}"
            ]
          },
          "metadata": {},
          "execution_count": 2
        }
      ]
    },
    {
      "cell_type": "markdown",
      "source": [
        "## Example\n",
        "True and 1 is considered the same value:"
      ],
      "metadata": {
        "id": "Rk3jwHJ1rj9z"
      }
    },
    {
      "cell_type": "code",
      "source": [
        "# Note: The values True and 1 are considered the same value in sets, and are treated as duplicates:\n",
        "name_0f_set={\"apple\", \"orange\",\"banana\", True,1,2}\n",
        "name_0f_set"
      ],
      "metadata": {
        "colab": {
          "base_uri": "https://localhost:8080/"
        },
        "id": "3yggGknFqqNx",
        "outputId": "6314ecc9-ced5-45e8-80b8-a232c74a7205"
      },
      "execution_count": 3,
      "outputs": [
        {
          "output_type": "execute_result",
          "data": {
            "text/plain": [
              "{2, True, 'apple', 'banana', 'orange'}"
            ]
          },
          "metadata": {},
          "execution_count": 3
        }
      ]
    },
    {
      "cell_type": "markdown",
      "source": [
        "#### Note:\n",
        "The values False and 0 are considered the same value in sets, and are treated as duplicates:"
      ],
      "metadata": {
        "id": "KGAC-0y2r7Hd"
      }
    },
    {
      "cell_type": "markdown",
      "source": [
        "### Example\n",
        "False and 0 is considered the same value:"
      ],
      "metadata": {
        "id": "I9gAB-Hysi_w"
      }
    },
    {
      "cell_type": "code",
      "source": [
        "name_0f_set={\"apple\", \"orange\",\"banana\", False,0,2}\n",
        "name_0f_set"
      ],
      "metadata": {
        "colab": {
          "base_uri": "https://localhost:8080/"
        },
        "id": "pGOJmPBZrZ_c",
        "outputId": "4092539a-52e2-4621-f25b-0b08cf962e9f"
      },
      "execution_count": 4,
      "outputs": [
        {
          "output_type": "execute_result",
          "data": {
            "text/plain": [
              "{2, False, 'apple', 'banana', 'orange'}"
            ]
          },
          "metadata": {},
          "execution_count": 4
        }
      ]
    },
    {
      "cell_type": "markdown",
      "source": [
        "### Get the Length of a Set\n",
        "To determine how many items a set has, use the len() function."
      ],
      "metadata": {
        "id": "q3xoPVB7tCaG"
      }
    },
    {
      "cell_type": "code",
      "source": [
        "len(name_0f_set)"
      ],
      "metadata": {
        "colab": {
          "base_uri": "https://localhost:8080/"
        },
        "id": "31XgMA59siUc",
        "outputId": "1a476f48-c4b4-4be5-9d79-8a17afff4890"
      },
      "execution_count": 5,
      "outputs": [
        {
          "output_type": "execute_result",
          "data": {
            "text/plain": [
              "5"
            ]
          },
          "metadata": {},
          "execution_count": 5
        }
      ]
    }
  ]
}