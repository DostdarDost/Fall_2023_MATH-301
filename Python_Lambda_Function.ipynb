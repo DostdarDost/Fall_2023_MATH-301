{
  "nbformat": 4,
  "nbformat_minor": 0,
  "metadata": {
    "colab": {
      "provenance": [],
      "authorship_tag": "ABX9TyPjfl3FfIQ05Zl58p43s/h5",
      "include_colab_link": true
    },
    "kernelspec": {
      "name": "python3",
      "display_name": "Python 3"
    },
    "language_info": {
      "name": "python"
    }
  },
  "cells": [
    {
      "cell_type": "markdown",
      "metadata": {
        "id": "view-in-github",
        "colab_type": "text"
      },
      "source": [
        "<a href=\"https://colab.research.google.com/github/DostdarDost/Teaching-Courses/blob/Courses/Python_Lambda_Function.ipynb\" target=\"_parent\"><img src=\"https://colab.research.google.com/assets/colab-badge.svg\" alt=\"Open In Colab\"/></a>"
      ]
    },
    {
      "cell_type": "markdown",
      "source": [
        "# Python Lambda Function"
      ],
      "metadata": {
        "id": "uTCj7c5K0BNc"
      }
    },
    {
      "cell_type": "markdown",
      "source": [
        "A lambda function is a small anonymous function.\n",
        "\n",
        "A lambda function can take any number of arguments, but can only have one expression."
      ],
      "metadata": {
        "id": "bC7_D7by3RSm"
      }
    },
    {
      "cell_type": "markdown",
      "source": [
        "## Syntax\n",
        "lambda arguments : expression\n",
        "\n",
        "The expression is executed and the result is returned:\n",
        "\n"
      ],
      "metadata": {
        "id": "EqG5wJP63Xzp"
      }
    },
    {
      "cell_type": "markdown",
      "source": [
        "## Example\n",
        "Add 10 to argument a, and return the result:\n"
      ],
      "metadata": {
        "id": "9RsE0vjr3lNg"
      }
    },
    {
      "cell_type": "code",
      "execution_count": 2,
      "metadata": {
        "colab": {
          "base_uri": "https://localhost:8080/"
        },
        "id": "2X1JlDG1zccF",
        "outputId": "0fb169ba-fef2-4375-db7f-a5442c8b1a30"
      },
      "outputs": [
        {
          "output_type": "stream",
          "name": "stdout",
          "text": [
            "20\n"
          ]
        }
      ],
      "source": [
        "x = lambda a : a + 10\n",
        "print(x(10))"
      ]
    },
    {
      "cell_type": "markdown",
      "source": [
        "Lambda functions can take any number of arguments:"
      ],
      "metadata": {
        "id": "xKt3RdJ94Xsf"
      }
    },
    {
      "cell_type": "markdown",
      "source": [
        "## Example\n",
        "Multiply argument a with argument b and return the result:\n",
        "\n"
      ],
      "metadata": {
        "id": "ZbJhYma44Y_h"
      }
    },
    {
      "cell_type": "code",
      "source": [
        "x = lambda a, b : a * b\n",
        "print(x(5, 6))"
      ],
      "metadata": {
        "colab": {
          "base_uri": "https://localhost:8080/"
        },
        "id": "BxBLMyVc4fvc",
        "outputId": "a1816b66-ac1e-4d05-9a94-0bde816754a2"
      },
      "execution_count": 3,
      "outputs": [
        {
          "output_type": "stream",
          "name": "stdout",
          "text": [
            "30\n"
          ]
        }
      ]
    },
    {
      "cell_type": "markdown",
      "source": [
        "##Example\n",
        "Summarize argument a, b, and c and return the result:\n"
      ],
      "metadata": {
        "id": "oTvwliRr40rR"
      }
    },
    {
      "cell_type": "code",
      "source": [
        "x = lambda a, b, c : a + b + c\n",
        "print(x(5, 6, 2))"
      ],
      "metadata": {
        "colab": {
          "base_uri": "https://localhost:8080/"
        },
        "id": "VVv712H444DX",
        "outputId": "99ff4ba3-fe44-4fd9-e63c-40924ec0036e"
      },
      "execution_count": 4,
      "outputs": [
        {
          "output_type": "stream",
          "name": "stdout",
          "text": [
            "13\n"
          ]
        }
      ]
    },
    {
      "cell_type": "markdown",
      "source": [
        "## Why Use Lambda Functions?\n",
        "The power of lambda is better shown when you use them as an anonymous function inside another function.\n",
        "\n",
        "Say you have a function definition that takes one argument, and that argument will be multiplied with an unknown number:"
      ],
      "metadata": {
        "id": "lZQhTGmd5jqP"
      }
    },
    {
      "cell_type": "code",
      "source": [
        "def myfunc(n):\n",
        "  return lambda a : a * n\n"
      ],
      "metadata": {
        "id": "ZEpUsAPG5omK"
      },
      "execution_count": 5,
      "outputs": []
    },
    {
      "cell_type": "code",
      "source": [
        "def myfunc(n):\n",
        "  return lambda a : a * n\n",
        "\n",
        "mydoubler = myfunc(2)\n",
        "\n",
        "print(mydoubler(11))"
      ],
      "metadata": {
        "colab": {
          "base_uri": "https://localhost:8080/"
        },
        "id": "vTrML2yS56va",
        "outputId": "b3c8944f-7971-4148-f17e-127e7d20451b"
      },
      "execution_count": 6,
      "outputs": [
        {
          "output_type": "stream",
          "name": "stdout",
          "text": [
            "22\n"
          ]
        }
      ]
    },
    {
      "cell_type": "markdown",
      "source": [
        "Or, use the same function definition to make a function that always triples the number you send in:"
      ],
      "metadata": {
        "id": "zWYbHBww6L7H"
      }
    },
    {
      "cell_type": "code",
      "source": [
        "## Example\n",
        "def myfunc(n):\n",
        "  return lambda a : a * n\n",
        "\n",
        "mytripler = myfunc(3)\n",
        "\n",
        "print(mytripler(11))"
      ],
      "metadata": {
        "colab": {
          "base_uri": "https://localhost:8080/"
        },
        "id": "FqQSVjwl6M8A",
        "outputId": "89ba8dc3-241d-4612-c1b8-a57916731b53"
      },
      "execution_count": 7,
      "outputs": [
        {
          "output_type": "stream",
          "name": "stdout",
          "text": [
            "33\n"
          ]
        }
      ]
    },
    {
      "cell_type": "code",
      "source": [
        "## Example\n",
        "def myfunc(n):\n",
        "  return lambda a : a * n\n",
        "\n",
        "mytripler = myfunc(3)\n",
        "\n",
        "print(mytripler(11))"
      ],
      "metadata": {
        "colab": {
          "base_uri": "https://localhost:8080/"
        },
        "id": "hc3cZ3RP6rx_",
        "outputId": "84074e5c-0b3e-472f-e90c-5a6e55af0104"
      },
      "execution_count": 8,
      "outputs": [
        {
          "output_type": "stream",
          "name": "stdout",
          "text": [
            "33\n"
          ]
        }
      ]
    },
    {
      "cell_type": "markdown",
      "source": [
        "Or, use the same function definition to make both functions, in the same program:"
      ],
      "metadata": {
        "id": "ddzDbdAL61Mh"
      }
    },
    {
      "cell_type": "code",
      "source": [
        "## Example\n",
        "def myfunc(n):\n",
        "  return lambda a : a * n\n",
        "\n",
        "mydoubler = myfunc(2)\n",
        "mytripler = myfunc(3)\n",
        "\n",
        "print(mydoubler(11))\n",
        "print(mytripler(11))"
      ],
      "metadata": {
        "colab": {
          "base_uri": "https://localhost:8080/"
        },
        "id": "LiC1H6rG64NW",
        "outputId": "6b229479-04e2-4279-bb73-75a9e7310f21"
      },
      "execution_count": 9,
      "outputs": [
        {
          "output_type": "stream",
          "name": "stdout",
          "text": [
            "22\n",
            "33\n"
          ]
        }
      ]
    },
    {
      "cell_type": "markdown",
      "source": [
        "Use lambda functions when an anonymous function is required for a short period of time."
      ],
      "metadata": {
        "id": "2H4mOS097C83"
      }
    }
  ]
}